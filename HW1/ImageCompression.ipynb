{
 "cells": [
  {
   "cell_type": "markdown",
   "metadata": {},
   "source": [
    "# Image Compression with K-means Clustering"
   ]
  },
  {
   "cell_type": "code",
   "execution_count": 1,
   "metadata": {},
   "outputs": [],
   "source": [
    "%matplotlib inline\n",
    "import numpy as np\n",
    "import matplotlib.pyplot as plt\n",
    "import scipy.io\n",
    "from random import sample\n",
    "import scipy.misc\n",
    "import matplotlib.cm as cm\n",
    "from scipy import linalg\n",
    "import imageio"
   ]
  },
  {
   "cell_type": "markdown",
   "metadata": {},
   "source": [
    "## 1: Implementing K-means"
   ]
  },
  {
   "cell_type": "markdown",
   "metadata": {},
   "source": [
    "### 1.1: Finding closest centroids"
   ]
  },
  {
   "cell_type": "code",
   "execution_count": 2,
   "metadata": {},
   "outputs": [],
   "source": [
    "datafile = '' # call the MATLAB file path\n",
    "mat = scipy.io.loadmat( datafile )\n",
    "X = mat['X']"
   ]
  },
  {
   "cell_type": "code",
   "execution_count": 3,
   "metadata": {},
   "outputs": [],
   "source": [
    "#Choose the number of centroids... K = 3\n",
    "K = 3\n",
    "initial_centroids = np.array([[3,3],[6,2],[8,5]]) # example initial value of centroids"
   ]
  },
  {
   "cell_type": "code",
   "execution_count": 27,
   "metadata": {},
   "outputs": [],
   "source": [
    "# Visualizing the data, please don't change the code below!\n",
    "def plotData(myX,mycentroids,myidxs = None):\n",
    "    \"\"\"\n",
    "    Fucntion to plot the data and color it accordingly.\n",
    "    myidxs should be the latest iteraction index vector\n",
    "    mycentroids should be a vector of centroids, one per iteration\n",
    "    \"\"\"\n",
    "    \n",
    "    colors = ['b','g','gold','darkorange','salmon','olivedrab']\n",
    "    \n",
    "    assert myX[0].shape == mycentroids[0][0].shape\n",
    "    assert mycentroids[-1].shape[0] <= len(colors)\n",
    "\n",
    "    #If idxs is supplied, divide up X into colors\n",
    "    if myidxs is not None:\n",
    "        assert myidxs.shape[0] == myX.shape[0]\n",
    "        subX = []\n",
    "        for x in range(mycentroids[0].shape[0]):\n",
    "            subX.append(np.array([myX[i] for i in range(myX.shape[0]) if myidxs[i] == x]))\n",
    "    else:\n",
    "        subX = [myX]\n",
    "        \n",
    "    fig = plt.figure(figsize=(7,5))\n",
    "    for x in range(len(subX)):\n",
    "        newX = subX[x]\n",
    "        plt.plot(newX[:,0],newX[:,1],'o',color=colors[x],\n",
    "                 alpha=0.75, label='Data Points: Cluster %d'%x)\n",
    "    plt.xlabel('x1',fontsize=14)\n",
    "    plt.ylabel('x2',fontsize=14)\n",
    "    plt.title('Plot of X Points',fontsize=16)\n",
    "    plt.grid(True)\n",
    "\n",
    "    #Drawing a history of centroid movement\n",
    "    tempx, tempy = [], []\n",
    "    for mycentroid in mycentroids:\n",
    "        tempx.append(mycentroid[:,0])\n",
    "        tempy.append(mycentroid[:,1])\n",
    "    \n",
    "    for x in range(len(tempx[0])):\n",
    "        plt.plot(tempx, tempy, 'rx--', markersize=8)\n",
    "\n",
    "    leg = plt.legend(loc=4, framealpha=0.5)"
   ]
  },
  {
   "cell_type": "code",
   "execution_count": null,
   "metadata": {},
   "outputs": [],
   "source": [
    "plotData(X,[initial_centroids])"
   ]
  },
  {
   "cell_type": "code",
   "execution_count": 29,
   "metadata": {},
   "outputs": [],
   "source": [
    "def distSquared(point1, point2):\n",
    "    # this function should return the squared distance between two points"
   ]
  },
  {
   "cell_type": "code",
   "execution_count": 30,
   "metadata": {},
   "outputs": [],
   "source": [
    "def findClosestCentroids(myX, mycentroids):\n",
    "    \"\"\"\n",
    "    Function takes in the (m,n) X matrix\n",
    "    (where m is the # of points, n is # of features per point)\n",
    "    and the (K,n) centroid seed matrix\n",
    "    (where K is the # of centroids (clusters)\n",
    "    and returns a (m,1) vector of cluster indices \n",
    "    per point in X (0 through K-1)\n",
    "    \"\"\"\n",
    "    idxs = np.zeros((myX.shape[0],1))\n",
    "    \n",
    "    #Loop through each data point in X\n",
    "    for x in range(idxs.shape[0]):\n",
    "        # Write code here\n",
    "        \n",
    "        #Then compare this point to each centroid,\n",
    "        #Keep track of shortest distance and index of shortest distance\n",
    "        mindist, idx = 9999999, 0\n",
    "        for i in range(mycentroids.shape[0]):\n",
    "            # Write code here\n",
    "            \n",
    "        #With the best index found, modify the result idx vector\n",
    "        # Write code here\n",
    "        \n",
    "    return idxs"
   ]
  },
  {
   "cell_type": "code",
   "execution_count": 31,
   "metadata": {},
   "outputs": [
    {
     "name": "stdout",
     "output_type": "stream",
     "text": [
      "[0. 2. 1.]\n"
     ]
    }
   ],
   "source": [
    "idxs = findClosestCentroids(X,initial_centroids)\n",
    "\n",
    "#you should see the output [1 3 2] corresponding to the centroid assignments for the first 3 examples.\n",
    "\n",
    "\n",
    "# print indices here (Hint: output should be [0 2 1])"
   ]
  },
  {
   "cell_type": "code",
   "execution_count": null,
   "metadata": {},
   "outputs": [],
   "source": [
    "plotData(X,[initial_centroids],idxs)"
   ]
  },
  {
   "cell_type": "markdown",
   "metadata": {},
   "source": [
    "### 1.2: Computing centroid means"
   ]
  },
  {
   "cell_type": "code",
   "execution_count": 33,
   "metadata": {},
   "outputs": [],
   "source": [
    "def computeCentroids(myX, myidxs):\n",
    "    \"\"\"\n",
    "    Function takes in the X matrix and the index vector\n",
    "    and computes a new centroid matrix.\n",
    "    \"\"\"\n",
    "    \n",
    "    # Write code here"
   ]
  },
  {
   "cell_type": "markdown",
   "metadata": {},
   "source": [
    "## 2: K-means on example dataset"
   ]
  },
  {
   "cell_type": "code",
   "execution_count": 34,
   "metadata": {},
   "outputs": [],
   "source": [
    "def runKMeans(myX, initial_centroids, K, n_iter):\n",
    "    centroid_history = []\n",
    "    current_centroids = initial_centroids\n",
    "    for myiter in range(n_iter):\n",
    "        centroid_history.append(current_centroids)\n",
    "        idxs = # use the functions above to calculate the closest centroid\n",
    "        current_centroids = # use the function above to compute new centroids\n",
    "        \n",
    "    return idxs, centroid_history"
   ]
  },
  {
   "cell_type": "code",
   "execution_count": 35,
   "metadata": {},
   "outputs": [],
   "source": [
    "idxs, centroid_history = # use the function above to run kmeans method"
   ]
  },
  {
   "cell_type": "code",
   "execution_count": null,
   "metadata": {},
   "outputs": [],
   "source": [
    "plotData(X,centroid_history,idxs)"
   ]
  },
  {
   "cell_type": "markdown",
   "metadata": {},
   "source": [
    "## 3: Random initialization"
   ]
  },
  {
   "cell_type": "code",
   "execution_count": 37,
   "metadata": {},
   "outputs": [],
   "source": [
    "def chooseKRandomCentroids(myX, K):\n",
    "    rand_indices = sample(range(0,myX.shape[0]),K)\n",
    "    return np.array([myX[i] for i in rand_indices])"
   ]
  },
  {
   "cell_type": "code",
   "execution_count": null,
   "metadata": {},
   "outputs": [],
   "source": [
    "#Let's choose random initial centroids and see the resulting \n",
    "for x in range(3):\n",
    "    idxs, centroid_history = # Write code here\n",
    "    plotData(X, centroid_history,idxs)"
   ]
  },
  {
   "cell_type": "markdown",
   "metadata": {},
   "source": [
    "## 4: Image compression with K-means"
   ]
  },
  {
   "cell_type": "markdown",
   "metadata": {},
   "source": [
    "### 4.1: K-means on pixels"
   ]
  },
  {
   "cell_type": "code",
   "execution_count": null,
   "metadata": {},
   "outputs": [],
   "source": [
    "datafile = '' \n",
    "\n",
    "# This creates a three-dimensional matrix A whose first two indices \n",
    "# identify a pixel position and whose last index represents red, green, or blue.\n",
    "A = # read the image with imageio\n",
    "\n",
    "print(\"A shape is \", A.shape)\n",
    "dummy = plt.imshow(A)"
   ]
  },
  {
   "cell_type": "code",
   "execution_count": 46,
   "metadata": {},
   "outputs": [],
   "source": [
    "# Divide every entry in A by 255 so all values are in the range of 0 to 1\n",
    "A = A / 255.\n",
    "\n",
    "# Unroll the image to shape (16384,3) (16384 is 128*128)\n",
    "A = # Write code here\n",
    "\n",
    "# Run k-means on this data, forming 16 clusters, with random initialization\n",
    "myK = 16\n",
    "idxs, centroid_history = # use functions above to complete this line of the code"
   ]
  },
  {
   "cell_type": "code",
   "execution_count": 47,
   "metadata": {},
   "outputs": [],
   "source": [
    "# Now I have 16 centroids, each representing a color.\n",
    "# Let's assign an index to each pixel in the original image dictating\n",
    "# which of the 16 colors it should be\n",
    "idxs = # find the closest centroid here"
   ]
  },
  {
   "cell_type": "code",
   "execution_count": 49,
   "metadata": {},
   "outputs": [],
   "source": [
    "final_centroids = centroid_history[-1]\n",
    "# Now loop through the original image and form a new image\n",
    "# that only has 16 colors in it\n",
    "final_image = np.zeros((idxs.shape[0],3))\n",
    "for x in range(final_image.shape[0]):\n",
    "    final_image[x] = final_centroids[int(idxs[x])]"
   ]
  },
  {
   "cell_type": "code",
   "execution_count": null,
   "metadata": {},
   "outputs": [],
   "source": [
    "# Reshape the original image and the new, final image and draw them\n",
    "plt.figure()\n",
    "dummy = plt.imshow() # complete this line with reshaping\n",
    "plt.figure()\n",
    "dummy = plt.imshow() # complete this line with reshaping"
   ]
  }
 ],
 "metadata": {
  "kernelspec": {
   "display_name": "Python 3",
   "language": "python",
   "name": "python3"
  },
  "language_info": {
   "codemirror_mode": {
    "name": "ipython",
    "version": 3
   },
   "file_extension": ".py",
   "mimetype": "text/x-python",
   "name": "python",
   "nbconvert_exporter": "python",
   "pygments_lexer": "ipython3",
   "version": "3.8.10"
  }
 },
 "nbformat": 4,
 "nbformat_minor": 2
}
